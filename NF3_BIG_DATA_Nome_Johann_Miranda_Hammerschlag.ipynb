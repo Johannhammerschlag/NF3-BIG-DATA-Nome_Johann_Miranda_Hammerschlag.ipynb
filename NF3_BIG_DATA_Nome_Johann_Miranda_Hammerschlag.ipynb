{
  "nbformat": 4,
  "nbformat_minor": 0,
  "metadata": {
    "colab": {
      "provenance": [],
      "authorship_tag": "ABX9TyNh5Q+MMLbHgNonmXRCuGlc",
      "include_colab_link": true
    },
    "kernelspec": {
      "name": "python3",
      "display_name": "Python 3"
    },
    "language_info": {
      "name": "python"
    }
  },
  "cells": [
    {
      "cell_type": "markdown",
      "metadata": {
        "id": "view-in-github",
        "colab_type": "text"
      },
      "source": [
        "<a href=\"https://colab.research.google.com/github/Johannhammerschlag/NF3-BIG-DATA-Nome_Johann_Miranda_Hammerschlag.ipynb/blob/main/NF3_BIG_DATA_Nome_Johann_Miranda_Hammerschlag.ipynb\" target=\"_parent\"><img src=\"https://colab.research.google.com/assets/colab-badge.svg\" alt=\"Open In Colab\"/></a>"
      ]
    },
    {
      "cell_type": "code",
      "source": [
        "#carregamento de Datasets\n",
        "\n",
        "import pandas as pd\n",
        "data = pd.read_csv('/content/world_alcohol.csv',encoding= 'utf-8', sep = ';')\n",
        "data.info()\n"
      ],
      "metadata": {
        "colab": {
          "base_uri": "https://localhost:8080/"
        },
        "id": "lx8kiL2Yht6u",
        "outputId": "473b8500-0124-459f-acca-b3de6d39dde6"
      },
      "execution_count": 104,
      "outputs": [
        {
          "output_type": "stream",
          "name": "stdout",
          "text": [
            "<class 'pandas.core.frame.DataFrame'>\n",
            "RangeIndex: 100 entries, 0 to 99\n",
            "Data columns (total 5 columns):\n",
            " #   Column          Non-Null Count  Dtype  \n",
            "---  ------          --------------  -----  \n",
            " 0   Year            100 non-null    int64  \n",
            " 1   WHO region      100 non-null    object \n",
            " 2   Country         100 non-null    object \n",
            " 3   Beverage Types  100 non-null    object \n",
            " 4   Display Value   95 non-null     float64\n",
            "dtypes: float64(1), int64(1), object(3)\n",
            "memory usage: 4.0+ KB\n"
          ]
        }
      ]
    },
    {
      "cell_type": "code",
      "source": [
        "#(Questão 1-A) tipos de bebidas \n",
        "import pandas as pd\n",
        "\n",
        "data = pd.read_csv('/content/world_alcohol.csv', encoding= 'utf-8', sep=';')\n",
        "grupo_bebidas = data.groupby('Beverage Types')\n",
        "\n",
        "# Contagem do tipo de bebida\n",
        "contagem_bebidas = grupo_bebidas.size()\n",
        "\n",
        "print(contagem_bebidas)"
      ],
      "metadata": {
        "colab": {
          "base_uri": "https://localhost:8080/"
        },
        "id": "q7WYrj7rtQ2l",
        "outputId": "4c21c56d-1ddb-4494-8818-5d348fb2bf61"
      },
      "execution_count": 114,
      "outputs": [
        {
          "output_type": "stream",
          "name": "stdout",
          "text": [
            "Beverage Types\n",
            "Beer       24\n",
            "Other      28\n",
            "Spirits    21\n",
            "Wine       27\n",
            "dtype: int64\n"
          ]
        }
      ]
    },
    {
      "cell_type": "code",
      "source": [
        "#(Questão 1-B) Por região e por ano \n",
        "\n",
        "import pandas as pd\n",
        "\n",
        "data = pd.read_csv('/content/world_alcohol.csv', encoding='utf-8', sep=';')\n",
        "grupo_regiao_ano = data.groupby(['WHO region', 'Year'])\n",
        "\n",
        "# Contagem por região e ano\n",
        "regiao_ano = grupo_regiao_ano.size()\n",
        "\n",
        "print(regiao_ano)\n"
      ],
      "metadata": {
        "colab": {
          "base_uri": "https://localhost:8080/"
        },
        "id": "K8SbrXrq7rEh",
        "outputId": "1f2986d9-4bd6-4b6c-ee6f-64162d67f400"
      },
      "execution_count": 127,
      "outputs": [
        {
          "output_type": "stream",
          "name": "stdout",
          "text": [
            "WHO region             Year\n",
            "Africa                 1984    4\n",
            "                       1985    9\n",
            "                       1986    4\n",
            "                       1987    6\n",
            "                       1989    6\n",
            "Americas               1984    2\n",
            "                       1985    1\n",
            "                       1986    6\n",
            "                       1987    5\n",
            "                       1989    5\n",
            "Eastern Mediterranean  1984    5\n",
            "                       1985    1\n",
            "                       1986    3\n",
            "                       1987    5\n",
            "                       1989    4\n",
            "Europe                 1984    4\n",
            "                       1985    6\n",
            "                       1986    6\n",
            "                       1987    3\n",
            "                       1989    3\n",
            "South-East Asia        1984    1\n",
            "                       1985    1\n",
            "                       1986    2\n",
            "Western Pacific        1984    2\n",
            "                       1985    2\n",
            "                       1986    2\n",
            "                       1987    2\n",
            "dtype: int64\n"
          ]
        }
      ]
    },
    {
      "cell_type": "code",
      "source": [
        "#(Questão 1-C) Contar cada combinação de região, ano , tipo de bebida,soma,valor\n",
        "\n",
        "import pandas as pd\n",
        "\n",
        "data = pd.read_csv('/content/world_alcohol.csv',encoding='utf-8', sep=';')\n",
        "grupo_regiao_ano_bebida = data.groupby(['WHO region', 'Year', 'Beverage Types'])\n",
        "\n",
        "resultado = grupo_regiao_ano_bebida.agg({'Display Value': ['count', 'sum']})\n",
        "\n",
        "print(resultado)\n"
      ],
      "metadata": {
        "colab": {
          "base_uri": "https://localhost:8080/"
        },
        "id": "iHfg3fg5zxD5",
        "outputId": "6146bf20-36ac-46d6-98ad-8846a0fc1825"
      },
      "execution_count": 137,
      "outputs": [
        {
          "output_type": "stream",
          "name": "stdout",
          "text": [
            "                                    Display Value      \n",
            "                                            count   sum\n",
            "WHO region      Year Beverage Types                    \n",
            "Africa          1984 Beer                       1  1.08\n",
            "                     Other                      2  6.10\n",
            "                     Wine                       1  0.00\n",
            "                1985 Beer                       1  0.02\n",
            "                     Other                      3  1.41\n",
            "...                                           ...   ...\n",
            "Western Pacific 1985 Beer                       1  0.00\n",
            "                     Spirits                    1  0.05\n",
            "                1986 Wine                       2  0.00\n",
            "                1987 Beer                       1  0.11\n",
            "                     Wine                       1  0.00\n",
            "\n",
            "[64 rows x 2 columns]\n"
          ]
        }
      ]
    },
    {
      "cell_type": "code",
      "source": [
        "#(Questão 1-D)\n",
        "\n",
        "import pandas as pd\n",
        "\n",
        "data = pd.read_csv('/content/world_alcohol.csv', encoding='utf-8', sep=';')\n",
        "grupo_bebida = data.groupby('Beverage Types')\n",
        "\n",
        "# média dos valores agrupados por tipo de bebida\n",
        "media_valores = grupo_bebida['Display Value'].mean()\n",
        "\n",
        "# moda dos valores agrupados por tipo de bebida\n",
        "moda_valores = grupo_bebida['Display Value'].apply(lambda x: x.mode().iloc[0])\n",
        "\n",
        "# mediana dos valores agrupados por tipo de bebida\n",
        "mediana_valores = grupo_bebida['Display Value'].median()\n",
        "\n",
        "# Calcular estatísticas descritivas dos valores agrupados por tipo de bebida\n",
        "descritiva_valores = grupo_bebida['Display Value'].describe()\n",
        "\n",
        "# Imprimir os resultados\n",
        "print(\"Média dos valores por tipo de bebida:\")\n",
        "print(media_valores)\n",
        "print(\"\\nModa dos valores por tipo de bebida:\")\n",
        "print(moda_valores)\n",
        "print(\"\\nMediana dos valores por tipo de bebida:\")\n",
        "print(mediana_valores)\n",
        "print(\"\\nEstatísticas descritivas dos valores por tipo de bebida:\")\n",
        "print(descritiva_valores)\n",
        "\n",
        "\n",
        "#  Agrupar os dados por tipo de bebidas\n",
        "grupo_bebidas = df.groupby('Beverage Types')\n",
        "\n",
        "# Agrupar os dados por Região e por Ano\n",
        "grupo_regiao_ano = df.groupby(['WHO region', 'Year'])\n",
        "\n",
        "#  Seção de Contagens\n",
        "contagem_regioes = df['WHO region'].value_counts()\n",
        "contagem_paises = df['Country'].nunique()\n",
        "soma_valores_bebida = df.groupby('Beverage Types')['Display Value'].sum()\n",
        "\n",
        "#  Realizar análises estatísticas da coluna dos valores\n",
        "media_valores = df['Display Value'].mean()\n",
        "moda_valores = df['Display Value'].mode()\n",
        "mediana_valores = df['Display Value'].median()\n",
        "descritiva_valores = df['Display Value'].describe()\n",
        "\n",
        "grupo_bebidas['Display Value'].mean().plot(kind='bar')\n",
        "\n",
        "#  Mostrar a coluna de bebidas do ano de 1985\n",
        "bebidas_1985 = df[df['Year'] == 1985]['Beverage Types']\n",
        "\n",
        "#  Mostrar a coluna de Região com valores acima de 4\n",
        "regioes_acima_4 = df[df['Display Value'] > 4]['WHO region']\n",
        "\n"
      ],
      "metadata": {
        "colab": {
          "base_uri": "https://localhost:8080/",
          "height": 1000
        },
        "id": "IY71z34q1_BO",
        "outputId": "130a6b04-53ad-40d1-89dc-02d353520fdd"
      },
      "execution_count": 139,
      "outputs": [
        {
          "output_type": "stream",
          "name": "stdout",
          "text": [
            "Média dos valores por tipo de bebida:\n",
            "Beverage Types\n",
            "Beer       1.479167\n",
            "Other      0.649130\n",
            "Spirits    1.474762\n",
            "Wine       0.866296\n",
            "Name: Display Value, dtype: float64\n",
            "\n",
            "Moda dos valores por tipo de bebida:\n",
            "Beverage Types\n",
            "Beer       0.0\n",
            "Other      0.0\n",
            "Spirits    0.0\n",
            "Wine       0.0\n",
            "Name: Display Value, dtype: float64\n",
            "\n",
            "Mediana dos valores por tipo de bebida:\n",
            "Beverage Types\n",
            "Beer       0.66\n",
            "Other      0.00\n",
            "Spirits    1.62\n",
            "Wine       0.04\n",
            "Name: Display Value, dtype: float64\n",
            "\n",
            "Estatísticas descritivas dos valores por tipo de bebida:\n",
            "                count      mean       std  min   25%   50%     75%   max\n",
            "Beverage Types                                                          \n",
            "Beer             24.0  1.479167  1.824993  0.0  0.10  0.66  2.2225  6.82\n",
            "Other            23.0  0.649130  1.556937  0.0  0.00  0.00  0.4000  6.10\n",
            "Spirits          21.0  1.474762  1.289285  0.0  0.08  1.62  2.2500  4.51\n",
            "Wine             27.0  0.866296  1.730992  0.0  0.00  0.04  1.0800  7.38\n"
          ]
        },
        {
          "output_type": "display_data",
          "data": {
            "text/plain": [
              "<Figure size 640x480 with 1 Axes>"
            ],
            "image/png": "[encoded data removed]"
          },
          "metadata": {}
        }
      ]
    },
    {
      "cell_type": "code",
      "source": [
        "##Mostrar a coluna de bebidas do ano de 1985:\n",
        "\n",
        "import pandas as pd\n",
        "\n",
        "data = pd.read_csv('/content/world_alcohol.csv', encoding='utf-8', sep=';')\n",
        "\n",
        "bebidas_1985 = data[data['Year'] == 1985]['Beverage Types']\n",
        "\n",
        "\n",
        "print(bebidas_1985)\n",
        "\n",
        "\n"
      ],
      "metadata": {
        "colab": {
          "base_uri": "https://localhost:8080/"
        },
        "id": "NMpxDEHkDhqd",
        "outputId": "879e612b-e0cf-4e41-947d-9f5ac7c7afc7"
      },
      "execution_count": 148,
      "outputs": [
        {
          "output_type": "stream",
          "name": "stdout",
          "text": [
            "2        Wine\n",
            "7     Spirits\n",
            "12       Beer\n",
            "14    Spirits\n",
            "24      Other\n",
            "26       Wine\n",
            "33      Other\n",
            "35    Spirits\n",
            "44      Other\n",
            "50      Other\n",
            "63      Other\n",
            "71      Other\n",
            "76       Beer\n",
            "77    Spirits\n",
            "80      Other\n",
            "81       Wine\n",
            "85       Wine\n",
            "94    Spirits\n",
            "96       Wine\n",
            "99       Wine\n",
            "Name: Beverage Types, dtype: object\n"
          ]
        }
      ]
    },
    {
      "cell_type": "code",
      "source": [
        "import pandas as pd\n",
        "\n",
        "data = pd.read_csv('/content/world_alcohol.csv', encoding='utf-8', sep=';')\n",
        "regioes_acima_de_4 = data[data['Display Value'] > 4]['WHO region']\n",
        "\n",
        "print(regioes_acima_de_4)\n"
      ],
      "metadata": {
        "colab": {
          "base_uri": "https://localhost:8080/"
        },
        "id": "8cS4OiiNOP82",
        "outputId": "7e6d28af-5c1e-41b7-b4e3-b2d47518109a"
      },
      "execution_count": 149,
      "outputs": [
        {
          "output_type": "stream",
          "name": "stdout",
          "text": [
            "3     Americas\n",
            "9       Africa\n",
            "21    Americas\n",
            "30      Africa\n",
            "41      Europe\n",
            "57      Europe\n",
            "91      Europe\n",
            "96      Europe\n",
            "Name: WHO region, dtype: object\n"
          ]
        }
      ]
    },
    {
      "cell_type": "code",
      "source": [],
      "metadata": {
        "id": "wKCfrR21P8Ck"
      },
      "execution_count": null,
      "outputs": []
    }
  ]
}